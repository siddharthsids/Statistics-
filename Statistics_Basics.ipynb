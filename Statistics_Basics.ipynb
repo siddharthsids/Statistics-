{
  "nbformat": 4,
  "nbformat_minor": 0,
  "metadata": {
    "colab": {
      "provenance": []
    },
    "kernelspec": {
      "name": "python3",
      "display_name": "Python 3"
    },
    "language_info": {
      "name": "python"
    }
  },
  "cells": [
    {
      "cell_type": "markdown",
      "source": [
        "**Q1: What is the difference between descriptive statistics and inferential statistics? Explain with examples.**\n",
        "\n",
        "Answer:\n",
        "Descriptive statistics are used to summarize and present data in a meaningful way. They focus only on the dataset you have without making predictions or generalizations. Examples include mean, median, mode, standard deviation, and graphs like histograms or boxplots. For example, if a class of 30 students has an average score of 75, that’s descriptive statistics.\n",
        "\n",
        "Inferential statistics, on the other hand, go beyond the data at hand to make conclusions or predictions about a larger population. They use probability theory, sampling, and hypothesis testing. For example, if we take a sample of 100 voters from a city and conclude that 60% of the entire city supports a candidate, that’s inferential statistics."
      ],
      "metadata": {
        "id": "c_W3LGK4Pla6"
      }
    },
    {
      "cell_type": "markdown",
      "source": [
        "**Q2: What is sampling in statistics? Explain the differences between random and stratified sampling.**\n",
        "\n",
        "Answer:\n",
        "Sampling is the process of selecting a smaller group (sample) from a larger population so that we can study the sample and make conclusions about the whole population.\n",
        "\n",
        "Random Sampling: Every member of the population has an equal chance of being selected. Example: Picking 50 students randomly from a university.\n",
        "\n",
        "Stratified Sampling: The population is divided into groups (strata) based on characteristics (like gender, income, or age), and then random samples are taken from each stratum. Example: If a school has 60% boys and 40% girls, we can sample students in the same ratio to get a more representative result."
      ],
      "metadata": {
        "id": "puFOR7xfPtlL"
      }
    },
    {
      "cell_type": "markdown",
      "source": [
        "**Q3: Define mean, median, and mode. Explain why these measures of central tendency are important.**\n",
        "\n",
        "Answer:\n",
        "\n",
        "Mean: The average of all values (sum ÷ count).\n",
        "\n",
        "Median: The middle value when data is sorted.\n",
        "\n",
        "Mode: The most frequently occurring value.\n",
        "\n",
        "These measures are important because they describe the \"center\" of the data, helping us understand where most values lie. For example, mean is useful for overall performance, median is better when data has outliers, and mode is helpful for categorical data like “most preferred brand.”"
      ],
      "metadata": {
        "id": "MdGG54y2PxE_"
      }
    },
    {
      "cell_type": "markdown",
      "source": [
        "**Q4: Explain skewness and kurtosis. What does a positive skew imply about the data?**\n",
        "\n",
        "Answer:\n",
        "\n",
        "Skewness measures the asymmetry of the data distribution. If data is symmetrical, skewness = 0.\n",
        "\n",
        "Positive skew (right-skewed): The tail is longer on the right side, meaning most values are lower but some very large values pull the mean to the right.\n",
        "\n",
        "Negative skew (left-skewed): The tail is longer on the left side.\n",
        "\n",
        "Kurtosis measures the “peakedness” of a distribution.\n",
        "\n",
        "High kurtosis: Data has sharp peaks and heavy tails.\n",
        "\n",
        "Low kurtosis: Data is flatter with light tails.\n",
        "\n",
        "A positive skew implies that most values are clustered at the lower end, but there are some very high outliers (like income data where most people earn average salaries, but a few earn extremely high amounts)."
      ],
      "metadata": {
        "id": "BVL5-0CBP0Pz"
      }
    },
    {
      "cell_type": "markdown",
      "source": [
        "**Q5: Python program to compute mean, median, and mode.**"
      ],
      "metadata": {
        "id": "0LoDwNApP5pk"
      }
    },
    {
      "cell_type": "code",
      "source": [
        "import statistics as stats\n",
        "\n",
        "numbers = [12, 15, 12, 18, 19, 12, 20, 22, 19, 19, 24, 24, 24, 26, 28]\n",
        "\n",
        "mean_val = stats.mean(numbers)\n",
        "median_val = stats.median(numbers)\n",
        "mode_val = stats.mode(numbers)\n",
        "\n",
        "print(\"Mean:\", mean_val)\n",
        "print(\"Median:\", median_val)\n",
        "print(\"Mode:\", mode_val)\n"
      ],
      "metadata": {
        "colab": {
          "base_uri": "https://localhost:8080/"
        },
        "id": "RESEEuACP8HZ",
        "outputId": "ace2591d-b6c7-40da-e6c1-4048b8c9b530"
      },
      "execution_count": 1,
      "outputs": [
        {
          "output_type": "stream",
          "name": "stdout",
          "text": [
            "Mean: 19.6\n",
            "Median: 19\n",
            "Mode: 12\n"
          ]
        }
      ]
    },
    {
      "cell_type": "markdown",
      "source": [
        "**Q6: Compute covariance and correlation coefficient.**"
      ],
      "metadata": {
        "id": "ZeYbUv-OP9vJ"
      }
    },
    {
      "cell_type": "code",
      "source": [
        "import numpy as np\n",
        "\n",
        "list_x = [10, 20, 30, 40, 50]\n",
        "list_y = [15, 25, 35, 45, 60]\n",
        "\n",
        "cov_matrix = np.cov(list_x, list_y, bias=True)\n",
        "cov_xy = cov_matrix[0][1]\n",
        "\n",
        "corr_xy = np.corrcoef(list_x, list_y)[0][1]\n",
        "\n",
        "print(\"Covariance:\", cov_xy)\n",
        "print(\"Correlation Coefficient:\", corr_xy)\n"
      ],
      "metadata": {
        "colab": {
          "base_uri": "https://localhost:8080/"
        },
        "id": "H10D54BQQAGI",
        "outputId": "77cf2b30-20a6-4e9e-c6b8-b44cde788668"
      },
      "execution_count": 2,
      "outputs": [
        {
          "output_type": "stream",
          "name": "stdout",
          "text": [
            "Covariance: 220.0\n",
            "Correlation Coefficient: 0.995893206467704\n"
          ]
        }
      ]
    },
    {
      "cell_type": "markdown",
      "source": [
        "**Q7: Boxplot and outliers.**\n",
        "\n",
        "Explanation:\n",
        "The boxplot will show the middle 50% of values between the lower and upper quartiles. Any data points beyond the “whiskers” are considered outliers. In this dataset, 35 is an outlier because it is much higher than the rest."
      ],
      "metadata": {
        "id": "QYdrU9InQBkG"
      }
    },
    {
      "cell_type": "code",
      "source": [
        "import matplotlib.pyplot as plt\n",
        "\n",
        "data = [12, 14, 14, 15, 18, 19, 19, 21, 22, 22, 23, 23, 24, 26, 29, 35]\n",
        "\n",
        "plt.boxplot(data)\n",
        "plt.title(\"Boxplot of Data\")\n",
        "plt.show()\n"
      ],
      "metadata": {
        "colab": {
          "base_uri": "https://localhost:8080/",
          "height": 452
        },
        "id": "Z9Z6hGwVQEYE",
        "outputId": "5411488c-f53a-483d-aa96-1a8a7ce5bc7d"
      },
      "execution_count": 3,
      "outputs": [
        {
          "output_type": "display_data",
          "data": {
            "text/plain": [
              "<Figure size 640x480 with 1 Axes>"
            ],
            "image/png": "[encoded data removed]"
          },
          "metadata": {}
        }
      ]
    },
    {
      "cell_type": "markdown",
      "source": [
        "**Q8: Relationship between advertising spend and daily sales.**\n",
        "\n",
        "Answer:\n",
        "\n",
        "Covariance tells us whether two variables move in the same direction (positive covariance) or opposite directions (negative covariance).\n",
        "\n",
        "Correlation standardizes this relationship, giving a value between –1 and +1, which shows the strength of the relationship.\n",
        "\n",
        "If correlation is close to +1, it means higher advertising spend is strongly linked to higher sales."
      ],
      "metadata": {
        "id": "kc5tn_VUQG0i"
      }
    },
    {
      "cell_type": "code",
      "source": [
        "import numpy as np\n",
        "\n",
        "advertising_spend = [200, 250, 300, 400, 500]\n",
        "daily_sales = [2200, 2450, 2750, 3200, 4000]\n",
        "\n",
        "corr = np.corrcoef(advertising_spend, daily_sales)[0][1]\n",
        "\n",
        "print(\"Correlation:\", corr)\n"
      ],
      "metadata": {
        "colab": {
          "base_uri": "https://localhost:8080/"
        },
        "id": "np_L3QybQPgp",
        "outputId": "f0ad6192-ebd7-49a3-a117-da908075a02b"
      },
      "execution_count": 4,
      "outputs": [
        {
          "output_type": "stream",
          "name": "stdout",
          "text": [
            "Correlation: 0.9935824101653329\n"
          ]
        }
      ]
    },
    {
      "cell_type": "markdown",
      "source": [
        "Q9: Customer satisfaction survey analysis.\n",
        "\n",
        "Answer:\n",
        "To understand the distribution, I’d calculate:\n",
        "\n",
        "Mean: Average score (to see overall satisfaction).\n",
        "\n",
        "Standard Deviation: Spread of scores (whether customers agree or vary a lot).\n",
        "\n",
        "Median: Middle score (less affected by outliers).\n",
        "\n",
        "Visualization: A histogram helps see the frequency distribution."
      ],
      "metadata": {
        "id": "5vJJdbk0QS1z"
      }
    },
    {
      "cell_type": "code",
      "source": [
        "import matplotlib.pyplot as plt\n",
        "\n",
        "survey_scores = [7, 8, 5, 9, 6, 7, 8, 9, 10, 4, 7, 6, 9, 8, 7]\n",
        "\n",
        "plt.hist(survey_scores, bins=6, edgecolor='black')\n",
        "plt.title(\"Customer Satisfaction Survey Histogram\")\n",
        "plt.xlabel(\"Scores\")\n",
        "plt.ylabel(\"Frequency\")\n",
        "plt.show()\n"
      ],
      "metadata": {
        "colab": {
          "base_uri": "https://localhost:8080/",
          "height": 472
        },
        "id": "h5iYYc50QTgJ",
        "outputId": "886ee43f-6611-4376-b3da-182dc5031b4c"
      },
      "execution_count": 5,
      "outputs": [
        {
          "output_type": "display_data",
          "data": {
            "text/plain": [
              "<Figure size 640x480 with 1 Axes>"
            ],
            "image/png": "[encoded data removed]"
          },
          "metadata": {}
        }
      ]
    }
  ]
}