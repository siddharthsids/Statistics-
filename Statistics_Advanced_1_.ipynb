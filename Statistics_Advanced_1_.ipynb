{
  "nbformat": 4,
  "nbformat_minor": 0,
  "metadata": {
    "colab": {
      "provenance": []
    },
    "kernelspec": {
      "name": "python3",
      "display_name": "Python 3"
    },
    "language_info": {
      "name": "python"
    }
  },
  "cells": [
    {
      "cell_type": "markdown",
      "source": [
        "**Question 1: What is a random variable in probability theory?**\n",
        "\n",
        "Answer:\n",
        "A random variable is a numerical value that represents the outcome of a random experiment. Instead of describing outcomes with words (like “heads” or “tails”), we assign numbers to them, making it easier to analyze mathematically. For example, in tossing a coin, we can define a random variable\n",
        "𝑋\n",
        "X where\n",
        "𝑋\n",
        "=\n",
        "1\n",
        "X=1 if the outcome is heads and\n",
        "𝑋\n",
        "=\n",
        "0\n",
        "X=0 if it is tails."
      ],
      "metadata": {
        "id": "xsvt5POA4DPp"
      }
    },
    {
      "cell_type": "markdown",
      "source": [
        "**Question 2: What are the types of random variables?**\n",
        "\n",
        "Answer:\n",
        "Random variables are mainly of two types:\n",
        "\n",
        "Discrete Random Variable: Takes countable values (e.g., number of students in a class).\n",
        "\n",
        "Continuous Random Variable: Takes values from an interval or range (e.g., height of students, time taken to finish a task)."
      ],
      "metadata": {
        "id": "Wj7axlar0M4J"
      }
    },
    {
      "cell_type": "markdown",
      "source": [
        "**Question 3: Explain the difference between discrete and continuous distributions.**\n",
        "\n",
        "Answer:\n",
        "\n",
        "Discrete distributions deal with countable outcomes. Examples include the binomial and Poisson distributions.\n",
        "\n",
        "Continuous distributions deal with uncountable outcomes where values can take any point in a range. Examples include the normal and exponential distributions.\n",
        "In short, discrete distributions are for “counts,” while continuous ones are for “measurements.”"
      ],
      "metadata": {
        "id": "dS1V0cWY0MxC"
      }
    },
    {
      "cell_type": "markdown",
      "source": [
        "**Question 4: What is a binomial distribution, and how is it used in probability?**\n",
        "\n",
        "Answer:\n",
        "The binomial distribution describes the probability of getting a fixed number of successes in a given number of independent trials, each with the same probability of success. For example, it can model the probability of getting exactly 3 heads in 10 coin tosses. It is widely used in quality control, clinical trials, and survey sampling."
      ],
      "metadata": {
        "id": "6qHSMRA80Muz"
      }
    },
    {
      "cell_type": "markdown",
      "source": [
        "**Question 5: What is the standard normal distribution, and why is it important?**\n",
        "\n",
        "Answer:\n",
        "The standard normal distribution is a special type of normal distribution with mean\n",
        "0\n",
        "0 and standard deviation\n",
        "1\n",
        "1. It is important because many real-life data follow a normal shape, and by standardizing values (converting them into z-scores), we can easily compare results, calculate probabilities, and apply statistical methods like hypothesis testing."
      ],
      "metadata": {
        "id": "vQvs70qk0Msp"
      }
    },
    {
      "cell_type": "markdown",
      "source": [
        "**Question 6: What is the Central Limit Theorem (CLT), and why is it critical in statistics?**\n",
        "\n",
        "Answer:\n",
        "The CLT states that if we take sufficiently large random samples from any population with a finite mean and variance, the sampling distribution of the sample mean will approximate a normal distribution, regardless of the population’s shape. It is critical because it allows statisticians to use normal probability methods for inference, even when the underlying data is not normally distributed."
      ],
      "metadata": {
        "id": "0yPVW4t60Mpr"
      }
    },
    {
      "cell_type": "markdown",
      "source": [
        "**Question 7: What is the significance of confidence intervals in statistical analysis?**\n",
        "\n",
        "Answer:\n",
        "Confidence intervals provide a range of values within which the true population parameter is likely to fall. For example, a 95% confidence interval means we are 95% confident that the true mean lies within the interval. This helps us make more reliable conclusions instead of relying only on point estimates."
      ],
      "metadata": {
        "id": "fBwHYbFN0MmK"
      }
    },
    {
      "cell_type": "markdown",
      "source": [
        "**Question 8: What is the concept of expected value in a probability distribution?**\n",
        "\n",
        "Answer:\n",
        "The expected value is the long-run average outcome of a random variable if an experiment is repeated many times. It is calculated by multiplying each possible value by its probability and summing the results. For example, the expected value of rolling a fair die is:\n",
        "\n",
        "𝐸\n",
        "(\n",
        "𝑋\n",
        ")\n",
        "=\n",
        "1\n",
        "+\n",
        "2\n",
        "+\n",
        "3\n",
        "+\n",
        "4\n",
        "+\n",
        "5\n",
        "+\n",
        "6\n",
        "6\n",
        "=\n",
        "3.5\n",
        "E(X)=\n",
        "6\n",
        "1+2+3+4+5+6\n",
        "\t​\n",
        "\n",
        "=3.5"
      ],
      "metadata": {
        "id": "ZoOXmyGy0Mjy"
      }
    },
    {
      "cell_type": "markdown",
      "source": [
        "Question 9: Write a Python program to generate 1000 random numbers from a normal distribution with mean = 50 and standard deviation = 5. Compute its mean and standard deviation using NumPy, and draw a histogram to visualize the distribution."
      ],
      "metadata": {
        "id": "ebwkQ_xt0Mhe"
      }
    },
    {
      "cell_type": "code",
      "source": [
        "import numpy as np\n",
        "import matplotlib.pyplot as plt\n",
        "\n",
        "# Generate 1000 random numbers\n",
        "data = np.random.normal(loc=50, scale=5, size=1000)\n",
        "\n",
        "# Compute mean and standard deviation\n",
        "mean = np.mean(data)\n",
        "std_dev = np.std(data)\n",
        "\n",
        "print(\"Mean:\", mean)\n",
        "print(\"Standard Deviation:\", std_dev)\n",
        "\n",
        "# Plot histogram\n",
        "plt.hist(data, bins=30, edgecolor='black', alpha=0.7)\n",
        "plt.title(\"Normal Distribution (Mean=50, SD=5)\")\n",
        "plt.xlabel(\"Value\")\n",
        "plt.ylabel(\"Frequency\")\n",
        "plt.show()\n"
      ],
      "metadata": {
        "colab": {
          "base_uri": "https://localhost:8080/",
          "height": 507
        },
        "id": "djqlCCV43lnA",
        "outputId": "c99a9a43-5dba-436e-a43f-3de8efe427b1"
      },
      "execution_count": 1,
      "outputs": [
        {
          "output_type": "stream",
          "name": "stdout",
          "text": [
            "Mean: 50.028045085113654\n",
            "Standard Deviation: 5.056272318707781\n"
          ]
        },
        {
          "output_type": "display_data",
          "data": {
            "text/plain": [
              "<Figure size 640x480 with 1 Axes>"
            ],
            "image/png": "[encoded data removed]"
          },
          "metadata": {}
        }
      ]
    },
    {
      "cell_type": "markdown",
      "source": [
        "Question 10: You are working as a data analyst for a retail company. The company has collected daily sales data for 2 years and wants you to identify the overall sales trend.\n",
        "\n",
        "Answer:\n",
        "To estimate the average sales with a 95% confidence interval, we use the Central Limit Theorem. The idea is that if we take repeated samples of daily sales, the distribution of sample means will approximate a normal distribution. Using this, we can compute the sample mean and then construct a confidence interval around it."
      ],
      "metadata": {
        "id": "FEsdpQGo0MfU"
      }
    },
    {
      "cell_type": "code",
      "source": [
        "import numpy as np\n",
        "import scipy.stats as stats\n",
        "\n",
        "daily_sales = [220, 245, 210, 265, 230, 250, 260, 275, 240, 255,\n",
        "               235, 260, 245, 250, 225, 270, 265, 255, 250, 260]\n",
        "\n",
        "# Calculate mean and standard error\n",
        "mean_sales = np.mean(daily_sales)\n",
        "std_error = stats.sem(daily_sales)\n",
        "\n",
        "# 95% confidence interval\n",
        "confidence_interval = stats.t.interval(0.95, len(daily_sales)-1,\n",
        "                                       loc=mean_sales, scale=std_error)\n",
        "\n",
        "print(\"Mean Sales:\", mean_sales)\n",
        "print(\"95% Confidence Interval:\", confidence_interval)\n"
      ],
      "metadata": {
        "colab": {
          "base_uri": "https://localhost:8080/"
        },
        "id": "rAGRJ7Pj3qim",
        "outputId": "cbaffb92-8550-417a-abb9-b13925d925c7"
      },
      "execution_count": 2,
      "outputs": [
        {
          "output_type": "stream",
          "name": "stdout",
          "text": [
            "Mean Sales: 248.25\n",
            "95% Confidence Interval: (np.float64(240.16957025147158), np.float64(256.3304297485284))\n"
          ]
        }
      ]
    }
  ]
}